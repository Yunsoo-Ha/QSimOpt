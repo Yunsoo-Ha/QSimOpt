{
 "cells": [
  {
   "cell_type": "code",
   "execution_count": 2,
   "metadata": {},
   "outputs": [],
   "source": [
    "from qiskit import QuantumRegister, ClassicalRegister, QuantumCircuit\n",
    "from qiskit import Aer, execute\n",
    "from qiskit.tools.visualization import plot_histogram\n",
    "from qiskit import IBMQ\n",
    "import numpy as np "
   ]
  },
  {
   "cell_type": "code",
   "execution_count": 3,
   "metadata": {},
   "outputs": [
    {
     "name": "stderr",
     "output_type": "stream",
     "text": [
      "C:\\Users\\ssha9\\Anaconda3\\lib\\site-packages\\qiskit\\providers\\models\\backendconfiguration.py:337: UserWarning: `dt` and `dtm` now have units of seconds(s) rather than nanoseconds(ns).\n",
      "  warnings.warn('`dt` and `dtm` now have units of seconds(s) rather '\n"
     ]
    },
    {
     "data": {
      "text/plain": [
       "<AccountProvider for IBMQ(hub='ibm-q', group='open', project='main')>"
      ]
     },
     "execution_count": 3,
     "metadata": {},
     "output_type": "execute_result"
    }
   ],
   "source": [
    "IBMQ.load_account()"
   ]
  },
  {
   "cell_type": "code",
   "execution_count": 15,
   "metadata": {},
   "outputs": [
    {
     "name": "stdout",
     "output_type": "stream",
     "text": [
      "[0.+0.j 1.+0.j 0.+0.j 0.+0.j]\n",
      "{'01': 241, '10': 259}\n"
     ]
    }
   ],
   "source": [
    "# Create registers and circuit\n",
    "a = QuantumRegister(2, 'a')  # input\n",
    "qc = QuantumCircuit(a)\n",
    "\n",
    "# All combinations of input\n",
    "qc.h(a[0])\n",
    "qc.x(a[1])\n",
    "qc.cx(a[0],a[1])\n",
    "    \n",
    "# Measure the output\n",
    "m = ClassicalRegister(2, 'output')\n",
    "qc.add_register(m)\n",
    "qc.measure(a,m)\n",
    "\n",
    "# Select the QasmSimulator from the Aer provider\n",
    "simulator = Aer.get_backend('statevector_simulator')\n",
    "job = execute(qc, simulator)\n",
    "result = job.result()\n",
    "print(result.get_statevector())\n",
    "\n",
    "# Simulate and show results\n",
    "backend = Aer.get_backend('qasm_simulator')\n",
    "job = execute(qc, backend, shots=500)  # shots default = 1024\n",
    "result = job.result()\n",
    "print(result.get_counts())"
   ]
  },
  {
   "cell_type": "code",
   "execution_count": 16,
   "metadata": {},
   "outputs": [
    {
     "data": {
      "image/png": "[encoded data removed]",
      "text/plain": [
       "<Figure size 408.156x204.68 with 1 Axes>"
      ]
     },
     "execution_count": 16,
     "metadata": {},
     "output_type": "execute_result"
    }
   ],
   "source": [
    "qc.draw(output='mpl')"
   ]
  },
  {
   "cell_type": "code",
   "execution_count": 21,
   "metadata": {},
   "outputs": [
    {
     "name": "stdout",
     "output_type": "stream",
     "text": [
      "[0.+0.j 0.+0.j 1.+0.j 0.+0.j]\n",
      "{'10': 266, '11': 234}\n"
     ]
    }
   ],
   "source": [
    "# we have phase shift for [11] state. \n",
    "\n",
    "# Create registers and circuit\n",
    "a = QuantumRegister(2, 'a')  # input\n",
    "qc = QuantumCircuit(a)\n",
    "\n",
    "# All combinations of input\n",
    "qc.h(a[0])\n",
    "qc.x(a[1])\n",
    "qc.cu1(-np.pi/2,a[0],a[1])\n",
    "    \n",
    "# Measure the output\n",
    "m = ClassicalRegister(2, 'output')\n",
    "qc.add_register(m)\n",
    "qc.measure(a,m)\n",
    "\n",
    "# Select the QasmSimulator from the Aer provider\n",
    "simulator = Aer.get_backend('statevector_simulator')\n",
    "job = execute(qc, simulator)\n",
    "result = job.result()\n",
    "print(result.get_statevector())\n",
    "\n",
    "# Simulate and show results\n",
    "backend = Aer.get_backend('qasm_simulator')\n",
    "job = execute(qc, backend, shots=500)  # shots default = 1024\n",
    "result = job.result()\n",
    "print(result.get_counts())"
   ]
  },
  {
   "cell_type": "code",
   "execution_count": 7,
   "metadata": {},
   "outputs": [
    {
     "data": {
      "image/png": "[encoded data removed]",
      "text/plain": [
       "<Figure size 408.156x204.68 with 1 Axes>"
      ]
     },
     "execution_count": 7,
     "metadata": {},
     "output_type": "execute_result"
    }
   ],
   "source": [
    "qc.draw(output='mpl')"
   ]
  },
  {
   "cell_type": "markdown",
   "metadata": {},
   "source": [
    "# Alter circuits"
   ]
  },
  {
   "cell_type": "code",
   "execution_count": 7,
   "metadata": {},
   "outputs": [
    {
     "name": "stdout",
     "output_type": "stream",
     "text": [
      "[ 0.+0.0000000e+00j  0.+0.0000000e+00j  0.+0.0000000e+00j\n",
      " -1.+1.2246468e-16j]\n",
      "{'11': 249, '00': 251}\n"
     ]
    }
   ],
   "source": [
    "# Create registers and circuit\n",
    "a = QuantumRegister(2, 'a')  # input\n",
    "qc = QuantumCircuit(a)\n",
    "\n",
    "# All combinations of input\n",
    "qc.x(a[1])\n",
    "qc.h(a[0])\n",
    "qc.cx(a[0],a[1])\n",
    "qc.h(a)\n",
    "    \n",
    "# Measure the output\n",
    "m = ClassicalRegister(2, 'output')\n",
    "qc.add_register(m)\n",
    "qc.measure(a,m)\n",
    "\n",
    "# Select the QasmSimulator from the Aer provider\n",
    "simulator = Aer.get_backend('statevector_simulator')\n",
    "job = execute(qc, simulator)\n",
    "result = job.result()\n",
    "print(result.get_statevector())\n",
    "\n",
    "# Simulate and show results\n",
    "backend = Aer.get_backend('qasm_simulator')\n",
    "job = execute(qc, backend, shots=500)  # shots default = 1024\n",
    "result = job.result()\n",
    "print(result.get_counts())"
   ]
  },
  {
   "cell_type": "code",
   "execution_count": 10,
   "metadata": {},
   "outputs": [
    {
     "name": "stdout",
     "output_type": "stream",
     "text": [
      "[0.        +0.j         0.70710678+0.70710678j 0.        +0.j\n",
      " 0.        +0.j        ]\n",
      "{'01': 135, '11': 117, '00': 137, '10': 111}\n"
     ]
    }
   ],
   "source": [
    "# Now, we can have the noticeable effects of the controlled operations\n",
    "\n",
    "# Create registers and circuit\n",
    "a = QuantumRegister(2, 'a')  # input\n",
    "qc = QuantumCircuit(a)\n",
    "\n",
    "# All combinations of input\n",
    "qc.x(a[1])\n",
    "qc.h(a[0])\n",
    "qc.cu1(-np.pi/2,a[0],a[1])\n",
    "qc.h(a)\n",
    "    \n",
    "# Measure the output\n",
    "m = ClassicalRegister(2, 'output')\n",
    "qc.add_register(m)\n",
    "qc.measure(a,m)\n",
    "\n",
    "# Select the QasmSimulator from the Aer provider\n",
    "simulator = Aer.get_backend('statevector_simulator')\n",
    "job = execute(qc, simulator)\n",
    "result = job.result()\n",
    "print(result.get_statevector())\n",
    "\n",
    "# Simulate and show results\n",
    "backend = Aer.get_backend('qasm_simulator')\n",
    "job = execute(qc, backend, shots=500)  # shots default = 1024\n",
    "result = job.result()\n",
    "print(result.get_counts())"
   ]
  },
  {
   "cell_type": "markdown",
   "metadata": {},
   "source": [
    "# Real Device"
   ]
  },
  {
   "cell_type": "code",
   "execution_count": 90,
   "metadata": {},
   "outputs": [
    {
     "name": "stdout",
     "output_type": "stream",
     "text": [
      "{'11': 4, '00': 253, '10': 7, '01': 236}\n"
     ]
    }
   ],
   "source": [
    "# Create registers and circuit\n",
    "a = QuantumRegister(2, 'a')  # input\n",
    "qc = QuantumCircuit(a)\n",
    "\n",
    "# All combinations of input\n",
    "qc.x(a[0])\n",
    "qc.h(a[1])\n",
    "qc.cx(a[0],a[1])\n",
    "qc.h(a)\n",
    "    \n",
    "# Measure the output\n",
    "m = ClassicalRegister(2, 'output')\n",
    "qc.add_register(m)\n",
    "qc.measure(a,m)\n",
    "\n",
    "# Simulate and show results\n",
    "provider = IBMQ.get_provider(hub='ibm-q', group='open', project='main')\n",
    "backend = provider.get_backend('ibmq_ourense') \n",
    "job = execute(qc, backend, shots=500)  # shots default = 1024\n",
    "result = job.result()\n",
    "print(result.get_counts())"
   ]
  },
  {
   "cell_type": "code",
   "execution_count": 91,
   "metadata": {},
   "outputs": [
    {
     "data": {
      "image/png": "[encoded data removed]",
      "text/plain": [
       "<Figure size 468.356x204.68 with 1 Axes>"
      ]
     },
     "execution_count": 91,
     "metadata": {},
     "output_type": "execute_result"
    }
   ],
   "source": [
    "qc.draw(output='mpl')"
   ]
  },
  {
   "cell_type": "code",
   "execution_count": 89,
   "metadata": {},
   "outputs": [
    {
     "name": "stdout",
     "output_type": "stream",
     "text": [
      "{'11': 104, '00': 132, '10': 120, '01': 144}\n"
     ]
    }
   ],
   "source": [
    "# Create registers and circuit\n",
    "a = QuantumRegister(2, 'a')  # input\n",
    "qc = QuantumCircuit(a)\n",
    "\n",
    "# All combinations of input\n",
    "qc.x(a[0])\n",
    "qc.h(a[1])\n",
    "qc.cu1(-np.pi/2,a[0],a[1])\n",
    "qc.h(a)\n",
    "    \n",
    "# Measure the output\n",
    "m = ClassicalRegister(2, 'output')\n",
    "qc.add_register(m)\n",
    "qc.measure(a,m)\n",
    "\n",
    "# Simulate and show results\n",
    "provider = IBMQ.get_provider(hub='ibm-q', group='open', project='main')\n",
    "backend = provider.get_backend('ibmq_ourense') \n",
    "job = execute(qc, backend, shots=500)  # shots default = 1024\n",
    "result = job.result()\n",
    "print(result.get_counts())"
   ]
  },
  {
   "cell_type": "code",
   "execution_count": 94,
   "metadata": {},
   "outputs": [
    {
     "data": {
      "image/png": "[encoded data removed]",
      "text/plain": [
       "<Figure size 468.356x204.68 with 1 Axes>"
      ]
     },
     "execution_count": 94,
     "metadata": {},
     "output_type": "execute_result"
    }
   ],
   "source": [
    "qc.draw(output='mpl')"
   ]
  },
  {
   "cell_type": "code",
   "execution_count": null,
   "metadata": {},
   "outputs": [],
   "source": []
  }
 ],
 "metadata": {
  "kernelspec": {
   "display_name": "Python 3",
   "language": "python",
   "name": "python3"
  },
  "language_info": {
   "codemirror_mode": {
    "name": "ipython",
    "version": 3
   },
   "file_extension": ".py",
   "mimetype": "text/x-python",
   "name": "python",
   "nbconvert_exporter": "python",
   "pygments_lexer": "ipython3",
   "version": "3.7.4"
  }
 },
 "nbformat": 4,
 "nbformat_minor": 2
}
