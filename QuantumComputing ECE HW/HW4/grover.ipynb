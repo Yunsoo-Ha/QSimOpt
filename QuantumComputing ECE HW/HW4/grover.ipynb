{
 "cells": [
  {
   "cell_type": "code",
   "execution_count": 6,
   "metadata": {},
   "outputs": [
    {
     "name": "stderr",
     "output_type": "stream",
     "text": [
      "Credentials are already in use. The existing account in the session will be replaced.\n"
     ]
    }
   ],
   "source": [
    "#initialization\n",
    "import matplotlib.pyplot as plt\n",
    "%matplotlib inline\n",
    "import numpy as np\n",
    "import math\n",
    "\n",
    "# importing Qiskit\n",
    "from qiskit import IBMQ, BasicAer\n",
    "from qiskit.providers.ibmq import least_busy\n",
    "from qiskit import QuantumCircuit, ClassicalRegister, QuantumRegister, execute\n",
    "import qiskit\n",
    "\n",
    "# import basic plot tools\n",
    "from qiskit.tools.visualization import plot_histogram\n",
    "\n",
    "provider = IBMQ.load_account()"
   ]
  },
  {
   "cell_type": "code",
   "execution_count": 7,
   "metadata": {},
   "outputs": [],
   "source": [
    "def phase_oracle(qc, n, indices_to_mark):\n",
    "    \n",
    "    oracle_matrix = np.identity(2**n)\n",
    "    for i in indices_to_mark:\n",
    "        oracle_matrix[i,i] = -1\n",
    "        \n",
    "    qc.unitary(qiskit.quantum_info.Operator(oracle_matrix), range(n))"
   ]
  },
  {
   "cell_type": "code",
   "execution_count": 8,
   "metadata": {},
   "outputs": [],
   "source": [
    "def diffuser(nqubits):\n",
    "    qc = QuantumCircuit(nqubits)\n",
    "    # Apply transformation |s> -> |00..0> (H-gates)\n",
    "    for qubit in range(nqubits):\n",
    "        qc.h(qubit)\n",
    "    # Apply transformation |00..0> -> |11..1> (X-gates)\n",
    "    for qubit in range(nqubits):\n",
    "        qc.x(qubit)\n",
    "    # Do multi-controlled-Z gate\n",
    "    qc.h(nqubits-1)\n",
    "    qc.mct(q[0:nqubits-1],q[nqubits-1], None, 'noancilla')  # multi-controlled-toffoli\n",
    "    qc.h(nqubits-1)\n",
    "    # Apply transformation |11..1> -> |00..0>\n",
    "    for qubit in range(nqubits):\n",
    "        qc.x(qubit)\n",
    "    # Apply transformation |00..0> -> |s>\n",
    "    for qubit in range(nqubits):\n",
    "        qc.h(qubit)\n",
    "    # We will return the diffuser as a gate\n",
    "    U_s = qc.to_gate()\n",
    "    U_s.name = \"$U_s$\"\n",
    "    return U_s"
   ]
  },
  {
   "cell_type": "code",
   "execution_count": 31,
   "metadata": {},
   "outputs": [
    {
     "data": {
      "text/plain": [
       "<qiskit.circuit.instructionset.InstructionSet at 0x221fb854948>"
      ]
     },
     "execution_count": 31,
     "metadata": {},
     "output_type": "execute_result"
    }
   ],
   "source": [
    "n = 4\n",
    "M = [13]\n",
    "t = 2^n\n",
    "\n",
    "q = QuantumRegister(n, 'q')\n",
    "k = QuantumRegister(n, 'k')\n",
    "c = ClassicalRegister(n, 'c')\n",
    "\n",
    "qc = QuantumCircuit(q, k, c)\n",
    "\n",
    "\n",
    "qc.h(q)\n",
    "\n",
    "for i in range(math.ceil(np.sqrt(t/len(M)))):\n",
    "    phase_oracle(qc, n, M)\n",
    "    qc.append(diffuser(n), list(range(n)))\n",
    "    \n",
    "qc.measure(q,c)"
   ]
  },
  {
   "cell_type": "code",
   "execution_count": 32,
   "metadata": {},
   "outputs": [
    {
     "data": {
      "image/png": "[encoded data removed]",
      "text/plain": [
       "<Figure size 504x360 with 1 Axes>"
      ]
     },
     "execution_count": 32,
     "metadata": {},
     "output_type": "execute_result"
    }
   ],
   "source": [
    "backend = BasicAer.get_backend('qasm_simulator')\n",
    "shots = 1024\n",
    "results = execute(qc, backend=backend, shots=shots).result()\n",
    "answer = results.get_counts()\n",
    "plot_histogram(answer)"
   ]
  }
 ],
 "metadata": {
  "kernelspec": {
   "display_name": "Python 3",
   "language": "python",
   "name": "python3"
  },
  "language_info": {
   "codemirror_mode": {
    "name": "ipython",
    "version": 3
   },
   "file_extension": ".py",
   "mimetype": "text/x-python",
   "name": "python",
   "nbconvert_exporter": "python",
   "pygments_lexer": "ipython3",
   "version": "3.7.4"
  }
 },
 "nbformat": 4,
 "nbformat_minor": 2
}
